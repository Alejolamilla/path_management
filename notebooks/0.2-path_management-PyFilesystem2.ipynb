{
 "cells": [
  {
   "cell_type": "code",
   "execution_count": 1,
   "metadata": {},
   "outputs": [],
   "source": [
    "import fs"
   ]
  },
  {
   "cell_type": "code",
   "execution_count": 4,
   "metadata": {},
   "outputs": [
    {
     "data": {
      "text/plain": [
       "OSFS('/home/alphalejo/repos/path_management/notebooks')"
      ]
     },
     "execution_count": 4,
     "metadata": {},
     "output_type": "execute_result"
    }
   ],
   "source": [
    "CURRENT_DIR = fs.open_fs(\".\")\n",
    "CURRENT_DIR # It's an object of type OSFS or Operative System File System"
   ]
  },
  {
   "cell_type": "code",
   "execution_count": 5,
   "metadata": {},
   "outputs": [
    {
     "ename": "IllegalBackReference",
     "evalue": "path '..' contains back-references outside of filesystem",
     "output_type": "error",
     "traceback": [
      "\u001b[0;31m---------------------------------------------------------------------------\u001b[0m",
      "\u001b[0;31mIndexError\u001b[0m                                Traceback (most recent call last)",
      "File \u001b[0;32m~/anaconda3/envs/path_management/lib/python3.9/site-packages/fs/path.py:85\u001b[0m, in \u001b[0;36mnormpath\u001b[0;34m(path)\u001b[0m\n\u001b[1;32m     84\u001b[0m     \u001b[39mif\u001b[39;00m component \u001b[39m==\u001b[39m \u001b[39m\"\u001b[39m\u001b[39m..\u001b[39m\u001b[39m\"\u001b[39m:\n\u001b[0;32m---> 85\u001b[0m         components\u001b[39m.\u001b[39;49mpop()\n\u001b[1;32m     86\u001b[0m \u001b[39melse\u001b[39;00m:\n",
      "\u001b[0;31mIndexError\u001b[0m: pop from empty list",
      "\nDuring handling of the above exception, another exception occurred:\n",
      "\u001b[0;31mIllegalBackReference\u001b[0m                      Traceback (most recent call last)",
      "Cell \u001b[0;32mIn[5], line 1\u001b[0m\n\u001b[0;32m----> 1\u001b[0m CURRENT_DIR\u001b[39m.\u001b[39;49mexists(\u001b[39m\"\u001b[39;49m\u001b[39m..\u001b[39;49m\u001b[39m\"\u001b[39;49m)\n",
      "File \u001b[0;32m~/anaconda3/envs/path_management/lib/python3.9/site-packages/fs/base.py:525\u001b[0m, in \u001b[0;36mFS.exists\u001b[0;34m(self, path)\u001b[0m\n\u001b[1;32m    515\u001b[0m \u001b[39m\"\"\"Check if a path maps to a resource.\u001b[39;00m\n\u001b[1;32m    516\u001b[0m \n\u001b[1;32m    517\u001b[0m \u001b[39mArguments:\u001b[39;00m\n\u001b[0;32m   (...)\u001b[0m\n\u001b[1;32m    522\u001b[0m \n\u001b[1;32m    523\u001b[0m \u001b[39m\"\"\"\u001b[39;00m\n\u001b[1;32m    524\u001b[0m \u001b[39mtry\u001b[39;00m:\n\u001b[0;32m--> 525\u001b[0m     \u001b[39mself\u001b[39;49m\u001b[39m.\u001b[39;49mgetinfo(path)\n\u001b[1;32m    526\u001b[0m \u001b[39mexcept\u001b[39;00m errors\u001b[39m.\u001b[39mResourceNotFound:\n\u001b[1;32m    527\u001b[0m     \u001b[39mreturn\u001b[39;00m \u001b[39mFalse\u001b[39;00m\n",
      "File \u001b[0;32m~/anaconda3/envs/path_management/lib/python3.9/site-packages/fs/osfs.py:283\u001b[0m, in \u001b[0;36mOSFS.getinfo\u001b[0;34m(self, path, namespaces)\u001b[0m\n\u001b[1;32m    281\u001b[0m \u001b[39mself\u001b[39m\u001b[39m.\u001b[39mcheck()\n\u001b[1;32m    282\u001b[0m namespaces \u001b[39m=\u001b[39m namespaces \u001b[39mor\u001b[39;00m ()\n\u001b[0;32m--> 283\u001b[0m _path \u001b[39m=\u001b[39m \u001b[39mself\u001b[39;49m\u001b[39m.\u001b[39;49mvalidatepath(path)\n\u001b[1;32m    284\u001b[0m sys_path \u001b[39m=\u001b[39m \u001b[39mself\u001b[39m\u001b[39m.\u001b[39mgetsyspath(_path)\n\u001b[1;32m    285\u001b[0m _lstat \u001b[39m=\u001b[39m \u001b[39mNone\u001b[39;00m\n",
      "File \u001b[0;32m~/anaconda3/envs/path_management/lib/python3.9/site-packages/fs/osfs.py:686\u001b[0m, in \u001b[0;36mOSFS.validatepath\u001b[0;34m(self, path)\u001b[0m\n\u001b[1;32m    680\u001b[0m \u001b[39mexcept\u001b[39;00m \u001b[39mUnicodeEncodeError\u001b[39;00m \u001b[39mas\u001b[39;00m error:\n\u001b[1;32m    681\u001b[0m     \u001b[39mraise\u001b[39;00m errors\u001b[39m.\u001b[39mInvalidCharsInPath(\n\u001b[1;32m    682\u001b[0m         path,\n\u001b[1;32m    683\u001b[0m         msg\u001b[39m=\u001b[39m\u001b[39m\"\u001b[39m\u001b[39mpath \u001b[39m\u001b[39m'\u001b[39m\u001b[39m{path}\u001b[39;00m\u001b[39m'\u001b[39m\u001b[39m could not be encoded for the filesystem (check LANG\u001b[39m\u001b[39m\"\u001b[39m\n\u001b[1;32m    684\u001b[0m         \u001b[39m\"\u001b[39m\u001b[39m env var); \u001b[39m\u001b[39m{error}\u001b[39;00m\u001b[39m\"\u001b[39m\u001b[39m.\u001b[39mformat(path\u001b[39m=\u001b[39mpath, error\u001b[39m=\u001b[39merror),\n\u001b[1;32m    685\u001b[0m     )\n\u001b[0;32m--> 686\u001b[0m \u001b[39mreturn\u001b[39;00m \u001b[39msuper\u001b[39;49m(OSFS, \u001b[39mself\u001b[39;49m)\u001b[39m.\u001b[39;49mvalidatepath(path)\n",
      "File \u001b[0;32m~/anaconda3/envs/path_management/lib/python3.9/site-packages/fs/base.py:1594\u001b[0m, in \u001b[0;36mFS.validatepath\u001b[0;34m(self, path)\u001b[0m\n\u001b[1;32m   1592\u001b[0m             msg \u001b[39m=\u001b[39m _msg\u001b[39m.\u001b[39mformat(max_chars\u001b[39m=\u001b[39mmax_sys_path_length)\n\u001b[1;32m   1593\u001b[0m             \u001b[39mraise\u001b[39;00m errors\u001b[39m.\u001b[39mInvalidPath(path, msg\u001b[39m=\u001b[39mmsg)\n\u001b[0;32m-> 1594\u001b[0m path \u001b[39m=\u001b[39m abspath(normpath(path))\n\u001b[1;32m   1595\u001b[0m \u001b[39mreturn\u001b[39;00m path\n",
      "File \u001b[0;32m~/anaconda3/envs/path_management/lib/python3.9/site-packages/fs/path.py:90\u001b[0m, in \u001b[0;36mnormpath\u001b[0;34m(path)\u001b[0m\n\u001b[1;32m     87\u001b[0m             components\u001b[39m.\u001b[39mappend(component)\n\u001b[1;32m     88\u001b[0m \u001b[39mexcept\u001b[39;00m \u001b[39mIndexError\u001b[39;00m:\n\u001b[1;32m     89\u001b[0m     \u001b[39m# FIXME (@althonos): should be raised from the IndexError\u001b[39;00m\n\u001b[0;32m---> 90\u001b[0m     \u001b[39mraise\u001b[39;00m IllegalBackReference(path)\n\u001b[1;32m     91\u001b[0m \u001b[39mreturn\u001b[39;00m prefix \u001b[39m+\u001b[39m \u001b[39m\"\u001b[39m\u001b[39m/\u001b[39m\u001b[39m\"\u001b[39m\u001b[39m.\u001b[39mjoin(components)\n",
      "\u001b[0;31mIllegalBackReference\u001b[0m: path '..' contains back-references outside of filesystem"
     ]
    }
   ],
   "source": [
    "CURRENT_DIR.exists(\"..\") # It will give us an error because for that objecct only exxist files and folders inside the path, we cant go to the parent folder with the OSFS object"
   ]
  },
  {
   "cell_type": "code",
   "execution_count": 6,
   "metadata": {},
   "outputs": [
    {
     "data": {
      "text/plain": [
       "OSFS('/home/alphalejo/repos/path_management/data/raw')"
      ]
     },
     "execution_count": 6,
     "metadata": {},
     "output_type": "execute_result"
    }
   ],
   "source": [
    "# If we want to go to the data folder we have to make another object\n",
    "DATA_DIR = fs.open_fs(\"../data/raw/\")\n",
    "DATA_DIR"
   ]
  },
  {
   "cell_type": "code",
   "execution_count": 7,
   "metadata": {},
   "outputs": [
    {
     "data": {
      "text/plain": [
       "['.gitkeep', 'pathlib', 'os']"
      ]
     },
     "execution_count": 7,
     "metadata": {},
     "output_type": "execute_result"
    }
   ],
   "source": [
    "# We have severall options as check, close the conection (that is open), check if it exist, make a glob (look for folders and files), list the elements inside, etc.\n",
    "DATA_DIR.listdir(\".\") # it is for list the elements inside the folder"
   ]
  },
  {
   "cell_type": "code",
   "execution_count": 10,
   "metadata": {},
   "outputs": [
    {
     "name": "stdout",
     "output_type": "stream",
     "text": [
      "/.gitkeep\n",
      "[]\n"
     ]
    }
   ],
   "source": [
    "# It's for go trough the files (we can walk trough folders) and will return the path of each file\n",
    "for path in DATA_DIR.walk.files():\n",
    "    print(path)\n",
    "\n",
    "    # we can open and read each file\n",
    "    with DATA_DIR.open(path) as data_file:\n",
    "        print(data_file.readlines()) # as the only file is empty it will show an empty list"
   ]
  },
  {
   "cell_type": "code",
   "execution_count": 11,
   "metadata": {},
   "outputs": [
    {
     "data": {
      "text/plain": [
       "SubFS(OSFS('/home/alphalejo/repos/path_management/data/raw'), '/external_fs')"
      ]
     },
     "execution_count": 11,
     "metadata": {},
     "output_type": "execute_result"
    }
   ],
   "source": [
    "# Let's create a new folder\n",
    "DATA_DIR.makedir(\"external_fs\", recreate=True) # It will return a new object with the parent folder and the new subfolder"
   ]
  },
  {
   "cell_type": "code",
   "execution_count": null,
   "metadata": {},
   "outputs": [],
   "source": []
  }
 ],
 "metadata": {
  "kernelspec": {
   "display_name": "path_management",
   "language": "python",
   "name": "python3"
  },
  "language_info": {
   "codemirror_mode": {
    "name": "ipython",
    "version": 3
   },
   "file_extension": ".py",
   "mimetype": "text/x-python",
   "name": "python",
   "nbconvert_exporter": "python",
   "pygments_lexer": "ipython3",
   "version": "3.9.16"
  },
  "orig_nbformat": 4
 },
 "nbformat": 4,
 "nbformat_minor": 2
}
